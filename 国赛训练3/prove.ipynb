{
 "cells": [
  {
   "cell_type": "code",
   "execution_count": 2,
   "id": "dd1e460e",
   "metadata": {},
   "outputs": [
    {
     "name": "stderr",
     "output_type": "stream",
     "text": [
      "<>:6: SyntaxWarning: invalid escape sequence '\\p'\n",
      "<>:6: SyntaxWarning: invalid escape sequence '\\p'\n",
      "C:\\Users\\Zhurun Zhang\\AppData\\Local\\Temp\\ipykernel_37272\\3935543814.py:6: SyntaxWarning: invalid escape sequence '\\p'\n",
      "  FilePath: \\国赛训练3\\prove1.py\n"
     ]
    }
   ],
   "source": [
    "'''\n",
    "Author: Zhurun Zhang\n",
    "Date: 2025-04-19 00:10:52\n",
    "LastEditors: Zhurun Zhang\n",
    "LastEditTime: 2025-04-19 01:39:11\n",
    "FilePath: \\国赛训练3\\prove1.py\n",
    "Description: Always happy to chat! Reach out via email < b23042510@njupt.edu.cn or 2857895300@qq.com >\n",
    "\n",
    "'''\n",
    "import numpy as np\n",
    "\n",
    "# Define the matrix A\n",
    "A = np.array([\n",
    "    [ 0, 10,  4, 50,  5,  0,  2],\n",
    "    [ 0, 10, 30,  5, 12,  0,  0],\n",
    "    [20,  0,  0,  0,  0,  5,  3],\n",
    "    [ 8,  0,  0,  0,  0,  6, 10],\n",
    "    [ 0,  6,  5, 10, 11,  4,  0],\n",
    "    [25, 40, 60, 120, 40, 11, 15],\n",
    "    [60, 70, 120, 140, 80, 25, 55]\n",
    "])\n",
    "\n",
    "A1 = A[:6]\n",
    "A2 = A[[0, 1, 2, 3, 4, 6]]\n",
    "# Define the vector b\n",
    "b_vec = np.array([\n",
    "    [1],\n",
    "    [1],\n",
    "    [1],\n",
    "    [1],\n",
    "    [1],\n",
    "    [6.327047],\n",
    "    [13.79802]\n",
    "])\n",
    "\n",
    "b1 = b_vec[:6]\n",
    "b2 = b_vec[[0, 1, 2, 3, 4, 6]]\n",
    "\n"
   ]
  },
  {
   "cell_type": "code",
   "execution_count": 4,
   "id": "37a272ac",
   "metadata": {},
   "outputs": [
    {
     "data": {
      "text/plain": [
       "array([[ 1.     ],\n",
       "       [ 1.     ],\n",
       "       [ 1.     ],\n",
       "       [ 1.     ],\n",
       "       [ 1.     ],\n",
       "       [13.79802]])"
      ]
     },
     "execution_count": 4,
     "metadata": {},
     "output_type": "execute_result"
    }
   ],
   "source": [
    "b2"
   ]
  },
  {
   "cell_type": "code",
   "execution_count": null,
   "id": "b032b232",
   "metadata": {},
   "outputs": [
    {
     "name": "stdout",
     "output_type": "stream",
     "text": [
      "Least-squares solution for 1(a, b, c, d, e, f, g):\n",
      "a1 = 0.0362490476711894\n",
      "b1 = -0.013959947846778512\n",
      "c1 = 0.004648202804136506\n",
      "d1 = 0.012219774217434906\n",
      "e1 = 0.07825454360470968\n",
      "f1 = 0.019380237808458364\n",
      "g1 = 0.05937261917797344\n",
      "\n",
      "No residuals returned (system may be consistent)\n"
     ]
    }
   ],
   "source": [
    "#！！！！！！！！！！！！ \n",
    "# 含有负数 禁用！！！！！！！！！！！！！！！！\n",
    "\n",
    "# Solve the system Ax = b for x using least squares\n",
    "# lstsq returns a tuple: (solution, residuals, rank, singular_values)\n",
    "solution1, residuals1, rank1, s1 = np.linalg.lstsq(A1, b1, rcond=None)\n",
    "\n",
    "# The solution vector x contains the values for a, b, c, d, e, f, g\n",
    "a, b, c, d, e, f, g = solution1.flatten()\n",
    "\n",
    "print(\"Least-squares solution for 1(a, b, c, d, e, f, g):\")\n",
    "print(f\"a1 = {a}\")\n",
    "print(f\"b1 = {b}\")\n",
    "print(f\"c1 = {c}\")\n",
    "print(f\"d1 = {d}\")\n",
    "print(f\"e1 = {e}\")\n",
    "print(f\"f1 = {f}\")\n",
    "print(f\"g1 = {g}\")\n",
    "\n",
    "# Optionally, you can check the norm of the residuals to see how well the solution fits\n",
    "if len(residuals1) > 0:\n",
    "    print(f\"\\nNorm of the residuals1 (||Ax - b||): {np.sqrt(residuals1[0])}\")\n",
    "else:\n",
    "    print(\"\\nNo residuals returned (system may be consistent)\")"
   ]
  },
  {
   "cell_type": "code",
   "execution_count": 3,
   "id": "f09f518a",
   "metadata": {},
   "outputs": [
    {
     "name": "stdout",
     "output_type": "stream",
     "text": [
      "Least-squares solution for 1(a, b, c, d, e, f, g):\n",
      "a2 = 0.038661250153737295\n",
      "b2 = 0.0270635138311053\n",
      "c2 = -0.0051660840672727104\n",
      "d2 = 0.005232936430846213\n",
      "e2 = 0.07151522512940808\n",
      "f2 = 0.006113124154445175\n",
      "g2 = 0.06540312538434309\n",
      "\n",
      "No residuals returned (system may be consistent)\n"
     ]
    }
   ],
   "source": [
    "# Solve the system Ax = b for x using least squares\n",
    "# lstsq returns a tuple: (solution, residuals, rank, singular_values)\n",
    "solution2, residuals2, rank2, s2 = np.linalg.lstsq(A2, b2, rcond=None)\n",
    "\n",
    "# The solution vector x contains the values for a, b, c, d, e, f, g\n",
    "a, b, c, d, e, f, g = solution2.flatten()\n",
    "\n",
    "print(\"Least-squares solution for 1(a, b, c, d, e, f, g):\")\n",
    "print(f\"a2 = {a}\")\n",
    "print(f\"b2 = {b}\")\n",
    "print(f\"c2 = {c}\")\n",
    "print(f\"d2 = {d}\")\n",
    "print(f\"e2 = {e}\")\n",
    "print(f\"f2 = {f}\")\n",
    "print(f\"g2 = {g}\")\n",
    "\n",
    "# Optionally, you can check the norm of the residuals to see how well the solution fits\n",
    "if len(residuals2) > 0:\n",
    "    print(f\"\\nNorm of the residuals2 (||Ax - b||): {np.sqrt(residuals2[0])}\")\n",
    "else:\n",
    "    print(\"\\nNo residuals returned (system may be consistent)\")"
   ]
  },
  {
   "cell_type": "code",
   "execution_count": 3,
   "id": "d98d3384",
   "metadata": {},
   "outputs": [
    {
     "name": "stdout",
     "output_type": "stream",
     "text": [
      "Non-Negative Least-Squares solution for (a, b, c, d, e, f, g):\n",
      "a = 0.03831886765473585\n",
      "b = 0.0\n",
      "c = 1.5517141880443025e-08\n",
      "d = 0.009479773084285823\n",
      "e = 0.07938338908869284\n",
      "f = 0.007996227898952752\n",
      "g = 0.0645471691368397\n",
      "\n",
      "Norm of the residuals for non-negative solution (||A1x - b1||): 0.0\n"
     ]
    }
   ],
   "source": [
    "from scipy.optimize import nnls\n",
    "non_negative_solution, residual_norm = nnls(A1, b1.flatten())\n",
    "\n",
    "# non_negative_solution 是包含非负值的解向量 (a, b, c, d, e, f, g)\n",
    "a_nn, b_nn, c_nn, d_nn, e_nn, f_nn, g_nn = non_negative_solution\n",
    "\n",
    "print(\"Non-Negative Least-Squares solution for (a, b, c, d, e, f, g):\")\n",
    "print(f\"a = {a_nn}\")\n",
    "print(f\"b = {b_nn}\")\n",
    "print(f\"c = {c_nn}\")\n",
    "print(f\"d = {d_nn}\")\n",
    "print(f\"e = {e_nn}\")\n",
    "print(f\"f = {f_nn}\")\n",
    "print(f\"g = {g_nn}\")\n",
    "\n",
    "\n",
    "\n",
    "\n",
    "# 打印非负解的残差范数\n",
    "print(f\"\\nNorm of the residuals for non-negative solution (||A1x - b1||): {residual_norm}\")\n"
   ]
  }
 ],
 "metadata": {
  "kernelspec": {
   "display_name": "Python 3",
   "language": "python",
   "name": "python3"
  },
  "language_info": {
   "codemirror_mode": {
    "name": "ipython",
    "version": 3
   },
   "file_extension": ".py",
   "mimetype": "text/x-python",
   "name": "python",
   "nbconvert_exporter": "python",
   "pygments_lexer": "ipython3",
   "version": "3.13.3"
  }
 },
 "nbformat": 4,
 "nbformat_minor": 5
}
