{
 "cells": [
  {
   "cell_type": "code",
   "execution_count": 37,
   "metadata": {},
   "outputs": [],
   "source": [
    "import multiprocessing as mp\n",
    "import numpy as np\n",
    "import osmnx as ox\n",
    "\n",
    "np.random.seed(0)\n",
    "# ox.__version__"
   ]
  },
  {
   "cell_type": "code",
   "execution_count": 38,
   "metadata": {},
   "outputs": [],
   "source": [
    "place = \"Baltimore, Maryland, USA\"\n",
    "G = ox.graph.graph_from_place(place, network_type=\"drive\")\n",
    "Gp = ox.projection.project_graph(G)"
   ]
  },
  {
   "cell_type": "code",
   "execution_count": 39,
   "metadata": {},
   "outputs": [],
   "source": [
    "# 在网络几何空间内随机采样 n 个点\n",
    "# points = ox.utils_geo.sample_points(ox.convert.to_undirected(Gp), n=100)\n",
    "# X = points.x.values\n",
    "# Y = points.y.values\n",
    "# X0 = X.mean()\n",
    "# Y0 = Y.mean()"
   ]
  },
  {
   "cell_type": "code",
   "execution_count": 40,
   "metadata": {},
   "outputs": [],
   "source": [
    "# 找到每个点的最近节点，并可选地返回距离\n",
    "#nodes, dists = ox.distance.nearest_nodes(Gp, X, Y, return_dist=True)\n"
   ]
  },
  {
   "cell_type": "code",
   "execution_count": 41,
   "metadata": {},
   "outputs": [],
   "source": [
    "# 找到这些节点之间的最短路径（按距离）并绘制\n",
    "# orig = list(G)[0]\n",
    "# dest = list(G)[120]\n",
    "# route = ox.routing.shortest_path(G, orig, dest, weight=\"length\")\n",
    "# fig, ax = ox.plot.plot_graph_route(G, route, route_color=\"g\", route_linewidth=3, node_size=0)"
   ]
  },
  {
   "cell_type": "code",
   "execution_count": 42,
   "metadata": {},
   "outputs": [],
   "source": [
    "# routes = ox.routing.k_shortest_paths(G, orig, dest, k=30, weight=\"length\")\n",
    "# fig, ax = ox.plot.plot_graph_routes(\n",
    "#     G, list(routes), route_colors=\"brown\", route_linewidth=1, node_size=0\n",
    "# )"
   ]
  },
  {
   "cell_type": "code",
   "execution_count": 43,
   "metadata": {},
   "outputs": [],
   "source": [
    "# 估算所有缺失数据的边缘速度\n",
    "G = ox.routing.add_edge_speeds(G)\n",
    "\n",
    "# 计算所有边缘的旅行时间（秒）\n",
    "G = ox.routing.add_edge_travel_times(G)"
   ]
  },
  {
   "cell_type": "code",
   "execution_count": 44,
   "metadata": {},
   "outputs": [],
   "source": [
    "# 查看按道路类型分类的平均速度/时间值\n",
    "edges = ox.convert.graph_to_gdfs(G, nodes=False)\n",
    "edges[\"highway\"] = edges[\"highway\"].astype(str)\n",
    "#edges.groupby(\"highway\")[[\"length\", \"speed_kph\", \"travel_time\"]].mean().round(1)"
   ]
  },
  {
   "cell_type": "code",
   "execution_count": 45,
   "metadata": {},
   "outputs": [],
   "source": [
    "# 再次执行相同操作，但这次传递一些默认速度值（公里/小时）\n",
    "# 以填补 OSM 中缺失 `maxspeed` 的边缘\n",
    "hwy_speeds = {\"residential\": 35, \"secondary\": 50, \"tertiary\": 60}\n",
    "G = ox.routing.add_edge_speeds(G, hwy_speeds=hwy_speeds)\n",
    "G = ox.routing.add_edge_travel_times(G)"
   ]
  },
  {
   "cell_type": "code",
   "execution_count": 46,
   "metadata": {},
   "outputs": [],
   "source": [
    "# 通过最小化旅行距离和旅行时间计算两条路径\n",
    "# orig = list(G)[1]\n",
    "# dest = list(G)[120]\n",
    "# route1 = ox.routing.shortest_path(G, orig, dest, weight=\"length\")\n",
    "# route2 = ox.routing.shortest_path(G, orig, dest, weight=\"travel_time\")"
   ]
  },
  {
   "cell_type": "code",
   "execution_count": 47,
   "metadata": {},
   "outputs": [],
   "source": [
    "# 绘制路径\n",
    "# fig, ax = ox.plot.plot_graph_routes(\n",
    "#     G, routes=[route1, route2], route_colors=[\"r\", \"y\"], route_linewidth=6, node_size=0\n",
    "# )"
   ]
  },
  {
   "cell_type": "code",
   "execution_count": 48,
   "metadata": {},
   "outputs": [],
   "source": [
    "# # 比较两条路径\n",
    "# route1_length = int(sum(ox.routing.route_to_gdf(G, route1, weight=\"length\")[\"length\"]))\n",
    "# route2_length = int(sum(ox.routing.route_to_gdf(G, route2, weight=\"travel_time\")[\"length\"]))\n",
    "# route1_time = int(sum(ox.routing.route_to_gdf(G, route1, weight=\"length\")[\"travel_time\"]))\n",
    "# route2_time = int(sum(ox.routing.route_to_gdf(G, route2, weight=\"travel_time\")[\"travel_time\"]))\n",
    "# print(\"Route 1 is\", route1_length, \"meters and takes\", route1_time, \"seconds.\")\n",
    "# print(\"Route 2 is\", route2_length, \"meters and takes\", route2_time, \"seconds.\")"
   ]
  },
  {
   "cell_type": "code",
   "execution_count": 49,
   "metadata": {},
   "outputs": [
    {
     "data": {
      "text/plain": [
       "20"
      ]
     },
     "execution_count": 49,
     "metadata": {},
     "output_type": "execute_result"
    }
   ],
   "source": [
    "# 您有多少个 CPU 核心\n",
    "mp.cpu_count()\n"
   ]
  },
  {
   "cell_type": "code",
   "execution_count": 50,
   "metadata": {},
   "outputs": [],
   "source": [
    "# 使用随机起点-终点对计算 100,000 条最短路径\n",
    "# n = 10000\n",
    "# origs = np.random.choice(G.nodes, size=n, replace=True)\n",
    "# dests = np.random.choice(G.nodes, size=n, replace=True)\n",
    "# dests = np.random.choice(G.nodes, size=10, replace=True)\n",
    "# print(dests.shape)"
   ]
  },
  {
   "cell_type": "code",
   "execution_count": 51,
   "metadata": {},
   "outputs": [],
   "source": [
    "# # 在网络几何空间内随机采样 n 个点\n",
    "# points = ox.utils_geo.sample_points(ox.convert.to_undirected(Gp), n=1000)\n",
    "# X1 = points.x.values\n",
    "# Y1 = points.y.values\n",
    "\n",
    "# # 找到每个点的最近节点，并可选地返回距离\n",
    "# nodes1, dists1 = ox.distance.nearest_nodes(Gp, X1, Y1, return_dist=True)\n",
    "\n",
    "# origs = nodes1\n",
    "# dest1 = ox.distance.nearest_nodes(G, X=-76.608411, Y=39.286316)  #国家水族馆分馆\n",
    "# dest2 = ox.distance.nearest_nodes(G, X=-76.613119, Y=39.280589)  #一个社会组织\n",
    "# dest3 = ox.distance.nearest_nodes(G, X=-76.602019, Y=39.283081)  #四季酒店 五星级\n",
    "# dest4 = ox.distance.nearest_nodes(G, X=-76.605554, Y=39.264594)  #roost 酒店 评分最高\n",
    "# dest5 = ox.distance.nearest_nodes(G, X=-76.581978, Y=39.267149)  #northwest harbor\n",
    "# dest6 = ox.distance.nearest_nodes(G, X=-76.569818, Y=39.275539)  #百货商场\n",
    "# dest7 = ox.distance.nearest_nodes(G, X=-76.583514, Y=39.282336)  #杂货店\n",
    "# dests = [dest1, dest2, dest3, dest4, dest5, dest6, dest7]"
   ]
  },
  {
   "cell_type": "code",
   "execution_count": 52,
   "metadata": {},
   "outputs": [],
   "source": [
    "#from tqdm.notebook import tqdm  # 进度条显示\n",
    "\n",
    "# 在网络几何空间内随机采样 n 个点\n",
    "n = 1000\n",
    "points = ox.utils_geo.sample_points(ox.convert.to_undirected(Gp), n=n)\n",
    "X1 = points.x.values\n",
    "Y1 = points.y.values\n",
    "\n",
    "# 获取所有起点节点（使用原始图G）\n",
    "origs, _ = ox.distance.nearest_nodes(G, X1, Y1, return_dist=True)\n",
    "\n",
    "# 预定义目的地\n",
    "destinations = [\n",
    "    ('国家水族馆分馆', -76.608411, 39.286316),\n",
    "    ('社会组织', -76.613119, 39.280589),\n",
    "    ('四季酒店', -76.602019, 39.283081),\n",
    "    ('roost酒店', -76.605554, 39.264594),\n",
    "    ('northwest harbor', -76.581978, 39.267149),\n",
    "    ('百货商场', -76.569818, 39.275539),\n",
    "    ('杂货店', -76.583514, 39.282336)\n",
    "]\n",
    "\n",
    "# 获取目的地节点\n",
    "dest_nodes = {}\n",
    "for name, x, y in destinations:\n",
    "    dest_nodes[name] = ox.distance.nearest_nodes(G, X=x, Y=y)\n",
    "\n",
    "# 计算并存储所有路径\n",
    "routes_dict = {}"
   ]
  },
  {
   "cell_type": "code",
   "execution_count": 53,
   "metadata": {},
   "outputs": [
    {
     "name": "stdout",
     "output_type": "stream",
     "text": [
      "路径计算完成！已存储 7 个目的地的路径数据\n",
      "CPU times: total: 1min 58s\n",
      "Wall time: 8min 41s\n"
     ]
    }
   ],
   "source": [
    "%%time\n",
    "\n",
    "for dest_name, dest_node in dest_nodes.items():\n",
    "    dests = [dest_node] * n\n",
    "    routes = ox.routing.shortest_path(G, origs, dests, weight=\"travel_time\", cpus=18)\n",
    "    routes_dict[dest_name] = routes\n",
    "\n",
    "print(f\"路径计算完成！已存储 {len(destinations)} 个目的地的路径数据\")"
   ]
  },
  {
   "cell_type": "code",
   "execution_count": 59,
   "metadata": {},
   "outputs": [
    {
     "data": {
      "text/html": [
       "<style type=\"text/css\">\n",
       "</style>\n",
       "<table id=\"T_41eb7\">\n",
       "  <caption>随机 1000 个点的可达性分析</caption>\n",
       "  <thead>\n",
       "    <tr>\n",
       "      <th class=\"blank level0\" >&nbsp;</th>\n",
       "      <th id=\"T_41eb7_level0_col0\" class=\"col_heading level0 col0\" >Avg Time (mins)</th>\n",
       "      <th id=\"T_41eb7_level0_col1\" class=\"col_heading level0 col1\" >Coverage</th>\n",
       "      <th id=\"T_41eb7_level0_col2\" class=\"col_heading level0 col2\" >Valid Routes</th>\n",
       "    </tr>\n",
       "    <tr>\n",
       "      <th class=\"index_name level0\" >Destination</th>\n",
       "      <th class=\"blank col0\" >&nbsp;</th>\n",
       "      <th class=\"blank col1\" >&nbsp;</th>\n",
       "      <th class=\"blank col2\" >&nbsp;</th>\n",
       "    </tr>\n",
       "  </thead>\n",
       "  <tbody>\n",
       "    <tr>\n",
       "      <th id=\"T_41eb7_level0_row0\" class=\"row_heading level0 row0\" >国家水族馆分馆</th>\n",
       "      <td id=\"T_41eb7_row0_col0\" class=\"data row0 col0\" >14.0</td>\n",
       "      <td id=\"T_41eb7_row0_col1\" class=\"data row0 col1\" >80.8%</td>\n",
       "      <td id=\"T_41eb7_row0_col2\" class=\"data row0 col2\" >808</td>\n",
       "    </tr>\n",
       "    <tr>\n",
       "      <th id=\"T_41eb7_level0_row1\" class=\"row_heading level0 row1\" >社会组织</th>\n",
       "      <td id=\"T_41eb7_row1_col0\" class=\"data row1 col0\" >13.9</td>\n",
       "      <td id=\"T_41eb7_row1_col1\" class=\"data row1 col1\" >80.8%</td>\n",
       "      <td id=\"T_41eb7_row1_col2\" class=\"data row1 col2\" >808</td>\n",
       "    </tr>\n",
       "    <tr>\n",
       "      <th id=\"T_41eb7_level0_row2\" class=\"row_heading level0 row2\" >四季酒店</th>\n",
       "      <td id=\"T_41eb7_row2_col0\" class=\"data row2 col0\" >14.5</td>\n",
       "      <td id=\"T_41eb7_row2_col1\" class=\"data row2 col1\" >80.8%</td>\n",
       "      <td id=\"T_41eb7_row2_col2\" class=\"data row2 col2\" >808</td>\n",
       "    </tr>\n",
       "    <tr>\n",
       "      <th id=\"T_41eb7_level0_row3\" class=\"row_heading level0 row3\" >roost酒店</th>\n",
       "      <td id=\"T_41eb7_row3_col0\" class=\"data row3 col0\" >14.8</td>\n",
       "      <td id=\"T_41eb7_row3_col1\" class=\"data row3 col1\" >80.8%</td>\n",
       "      <td id=\"T_41eb7_row3_col2\" class=\"data row3 col2\" >808</td>\n",
       "    </tr>\n",
       "    <tr>\n",
       "      <th id=\"T_41eb7_level0_row4\" class=\"row_heading level0 row4\" >northwest harbor</th>\n",
       "      <td id=\"T_41eb7_row4_col0\" class=\"data row4 col0\" >16.9</td>\n",
       "      <td id=\"T_41eb7_row4_col1\" class=\"data row4 col1\" >80.8%</td>\n",
       "      <td id=\"T_41eb7_row4_col2\" class=\"data row4 col2\" >808</td>\n",
       "    </tr>\n",
       "    <tr>\n",
       "      <th id=\"T_41eb7_level0_row5\" class=\"row_heading level0 row5\" >百货商场</th>\n",
       "      <td id=\"T_41eb7_row5_col0\" class=\"data row5 col0\" >15.4</td>\n",
       "      <td id=\"T_41eb7_row5_col1\" class=\"data row5 col1\" >80.8%</td>\n",
       "      <td id=\"T_41eb7_row5_col2\" class=\"data row5 col2\" >808</td>\n",
       "    </tr>\n",
       "    <tr>\n",
       "      <th id=\"T_41eb7_level0_row6\" class=\"row_heading level0 row6\" >杂货店</th>\n",
       "      <td id=\"T_41eb7_row6_col0\" class=\"data row6 col0\" >15.2</td>\n",
       "      <td id=\"T_41eb7_row6_col1\" class=\"data row6 col1\" >80.8%</td>\n",
       "      <td id=\"T_41eb7_row6_col2\" class=\"data row6 col2\" >808</td>\n",
       "    </tr>\n",
       "  </tbody>\n",
       "</table>\n"
      ],
      "text/plain": [
       "<pandas.io.formats.style.Styler at 0x275ac403980>"
      ]
     },
     "metadata": {},
     "output_type": "display_data"
    }
   ],
   "source": [
    "import pandas as pd\n",
    "\n",
    "results = []\n",
    "for dest_name, routes in routes_dict.items():\n",
    "    total_seconds = 0\n",
    "    valid_count = 0\n",
    "    for route in routes:\n",
    "        if route and len(route) > 0:\n",
    "            try:\n",
    "                gdf = ox.routing.route_to_gdf(G, route, weight=\"travel_time\")\n",
    "                time_sum = int(gdf[\"travel_time\"].sum())\n",
    "                total_seconds += time_sum\n",
    "                valid_count += 1\n",
    "            except:\n",
    "                continue\n",
    "    \n",
    "    avg_min = (total_seconds / valid_count / 60) if valid_count > 0 else np.nan\n",
    "    coverage = valid_count / len(origs)  # 保持为浮点数\n",
    "    \n",
    "    results.append({\n",
    "        'Destination': dest_name,\n",
    "        'Avg Time (mins)': round(avg_min, 1) if not np.isnan(avg_min) else 'N/A',\n",
    "        'Coverage': coverage,  # 改为存储原始数值\n",
    "        'Valid Routes': valid_count\n",
    "    })\n",
    "\n",
    "# 创建可视化表格\n",
    "df = pd.DataFrame(results).set_index('Destination')\n",
    "# 修正后的格式设置\n",
    "display(df.style\n",
    "        .format({\n",
    "            'Avg Time (mins)': '{:.1f}',  # 格式化浮点数\n",
    "            'Coverage': '{:.1%}'  # 自动转换数值到百分比\n",
    "        }, na_rep=\"N/A\")\n",
    "        .set_caption(f\"随机 {n} 个点的可达性分析\"))\n",
    "# %%time\n",
    "# 使用我计算机上的所有核心求解所有路径需要 2.3 秒\n",
    "# 我有一台 24 线程的 AMD 5900x：性能取决于您的具体 CPU\n",
    "# routes = ox.routing.shortest_path(G, origs, dests, weight=\"travel_time\", cpus=None)"
   ]
  },
  {
   "cell_type": "code",
   "execution_count": 37,
   "metadata": {},
   "outputs": [],
   "source": [
    "#%%time\n",
    "# 使用我计算机上的 1 个核心求解所有路径需要 29 秒\n",
    "\n",
    "# routes = ox.routing.shortest_path(G, origs, dests, weight=\"travel_time\", cpus=18)"
   ]
  },
  {
   "cell_type": "code",
   "execution_count": null,
   "metadata": {},
   "outputs": [],
   "source": [
    "# # 我们得到了多少结果\n",
    "# print(len(routes))\n",
    "\n",
    "# # 其中有多少是可求解的路径\n",
    "# # 由于有向图边界效应，有些路径可能无法求解\n",
    "# routes_valid = [r for r in routes if r is not None]\n",
    "# print(len(routes_valid))"
   ]
  }
 ],
 "metadata": {
  "kernelspec": {
   "display_name": "Python 3",
   "language": "python",
   "name": "python3"
  },
  "language_info": {
   "codemirror_mode": {
    "name": "ipython",
    "version": 3
   },
   "file_extension": ".py",
   "mimetype": "text/x-python",
   "name": "python",
   "nbconvert_exporter": "python",
   "pygments_lexer": "ipython3",
   "version": "3.12.1"
  }
 },
 "nbformat": 4,
 "nbformat_minor": 2
}
