{
 "cells": [
  {
   "cell_type": "markdown",
   "id": "b3c68c37",
   "metadata": {},
   "source": [
    "### error\n"
   ]
  },
  {
   "cell_type": "code",
   "execution_count": 1,
   "id": "f03cc33c",
   "metadata": {},
   "outputs": [],
   "source": [
    "from sklearn.metrics import mean_squared_error, mean_absolute_error, r2_score\n",
    "import pandas as pd\n",
    "import numpy as np\n",
    "from sklearn.linear_model import LinearRegression\n",
    "import matplotlib.pyplot as plt"
   ]
  },
  {
   "cell_type": "code",
   "execution_count": 2,
   "id": "f87b8ab8",
   "metadata": {},
   "outputs": [],
   "source": [
    "# 读取数据\n",
    "df = pd.read_excel('待拟合函数.xlsx', sheet_name='Sheet1')\n",
    "\n",
    "y_original = df['y1'].values\n",
    "y_predicted = df['y2'].values\n",
    "\n",
    "mse = mean_squared_error(y_original, y_predicted)\n",
    "mae = mean_absolute_error(y_original, y_predicted)\n",
    "r2 = r2_score(y_original, y_predicted)"
   ]
  },
  {
   "cell_type": "code",
   "execution_count": null,
   "id": "03add07c",
   "metadata": {},
   "outputs": [
    {
     "name": "stdout",
     "output_type": "stream",
     "text": [
      "\n",
      "误差分析报告：\n",
      "均方误差 (MSE): 5.6773\n",
      "平均绝对误差 (MAE): 1.8283\n",
      "R²决定系数: 0.9863\n"
     ]
    },
    {
     "ename": "",
     "evalue": "",
     "output_type": "error",
     "traceback": [
      "\u001b[1;31m在当前单元格或上一个单元格中执行代码时 Kernel 崩溃。\n",
      "\u001b[1;31m请查看单元格中的代码，以确定故障的可能原因。\n",
      "\u001b[1;31m单击<a href='https://aka.ms/vscodeJupyterKernelCrash'>此处</a>了解详细信息。\n",
      "\u001b[1;31m有关更多详细信息，请查看 Jupyter <a href='command:jupyter.viewOutput'>log</a>。"
     ]
    }
   ],
   "source": [
    "print(\"\\n误差分析报告：\")\n",
    "print(f\"均方误差 (MSE): {mse:.4f}\")\n",
    "print(f\"平均绝对误差 (MAE): {mae:.4f}\")\n",
    "print(f\"R²决定系数: {r2:.4f}\")"
   ]
  }
 ],
 "metadata": {
  "kernelspec": {
   "display_name": "base",
   "language": "python",
   "name": "python3"
  },
  "language_info": {
   "codemirror_mode": {
    "name": "ipython",
    "version": 3
   },
   "file_extension": ".py",
   "mimetype": "text/x-python",
   "name": "python",
   "nbconvert_exporter": "python",
   "pygments_lexer": "ipython3",
   "version": "3.12.7"
  }
 },
 "nbformat": 4,
 "nbformat_minor": 5
}
