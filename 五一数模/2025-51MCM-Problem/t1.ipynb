{
 "cells": [
  {
   "cell_type": "markdown",
   "id": "0bf072b9",
   "metadata": {},
   "source": [
    "## t1"
   ]
  },
  {
   "cell_type": "markdown",
   "id": "ac8ac88e",
   "metadata": {},
   "source": []
  },
  {
   "cell_type": "code",
   "execution_count": 24,
   "id": "7fdde60e",
   "metadata": {},
   "outputs": [],
   "source": [
    "import pandas as pd\n",
    "import numpy as np\n",
    "from scipy.optimize import curve_fit\n",
    "import matplotlib.pyplot as plt\n",
    "\n",
    "# plt.rcParams['font.sans-serif'] = ['SimHei']  # 指定默认字体\n",
    "# plt.rcParams['axes.unicode_minus'] = False    # 解决保存图像是负号'-'显示为方块的问题\n",
    "\n",
    "# --- 1. 数据加载 ---\n",
    "df = pd.read_excel('表1 (Table 1).xlsx', header=0)\n",
    "# pd.read_csv(file_path, header=None)\n",
    "# 假设车流量数据在第一列 (索引为 0)\n",
    "F_observed = df.iloc[:, 2].values\n",
    "\n",
    "\n",
    "# 检查数据点数量是否为60\n",
    "if len(F_observed) != 60:\n",
    "    print(f\"错误：预期有60个数据点，但从文件中读取到 {len(F_observed)} 个。\")\n",
    "    print(\"请检查输入文件 '表1 (Table 1).xlsx - 表1 (Table 1).csv' 的格式和内容。\")\n",
    "    print(\"数据应包含从 7:00 到 8:58 每两分钟的主路车流量，共60行。\")\n",
    "    exit()\n",
    "\n"
   ]
  },
  {
   "cell_type": "code",
   "execution_count": 10,
   "id": "3c9e00d9",
   "metadata": {},
   "outputs": [],
   "source": [
    "# 时间点 t = 0, 1, ..., 59\n",
    "t_data = np.arange(len(F_observed))\n",
    "\n",
    "# --- 2. 定义拟合模型 ---\n",
    "# total_flow 函数需要返回给定参数下的总预测流量 F_predicted(t) = f1(t) + f2(t)\n",
    "def total_flow(t, a, b, c, d, e, tp_float):\n",
    "    \"\"\"\n",
    "    计算总流量模型 F(t) = f1(t) + f2(t)。\n",
    "    f1(t) = a*t + b\n",
    "    f2(t) = ct + d if t <= tp else et + g\n",
    "    其中 g = (c - e) * tp + d (确保连续性)\n",
    "    tp_float 用于优化，内部转换为整数 tp。\n",
    "    \"\"\"\n",
    "    # 将 tp_float 转换为整数索引，并限制在有效范围内 [0, 58]\n",
    "    # (峰值不能是最后一个点，否则下降段没有意义)\n",
    "    tp = int(round(tp_float))\n",
    "    tp = max(0, min(len(t_data) - 2, tp)) # 确保 tp <= 58\n",
    "\n",
    "    # 支路1 流量\n",
    "    f1 = a * t + b\n",
    "\n",
    "    # 支路2 流量 (分段定义)\n",
    "    # 计算 g 以保证连续性\n",
    "    g = (2 * c) * tp + d\n",
    "    # 使用 np.where 实现分段\n",
    "    f2 = np.where(t <= tp, c * t + d, -c * t + g)\n",
    "\n",
    "    # 总流量\n",
    "    F_predicted = f1 + f2\n",
    "\n",
    "    # 添加惩罚项，如果流量为负，使其远离该解（虽然bounds应处理大部分情况）\n",
    "    penalty = np.sum(np.maximum(0, -f1)**2) + np.sum(np.maximum(0, -f2)**2)\n",
    "\n",
    "    return F_predicted + penalty * 1e6 # 增加大的惩罚使优化器避免负流量\n",
    "\n"
   ]
  },
  {
   "cell_type": "code",
   "execution_count": 20,
   "id": "59393f43",
   "metadata": {},
   "outputs": [],
   "source": [
    "# --- 3. 参数优化 (curve_fit) ---\n",
    "\n",
    "# 参数初始猜测值 (p0)\n",
    "# a: f1 斜率 (正)\n",
    "# b: f1 截距 (正，初始流量)\n",
    "# c: f2 增长斜率 (正)\n",
    "# d: f2 截距 (正，初始流量)\n",
    "# e: f2 下降斜率 (负)\n",
    "# tp_float: 峰值时间 (0-58 之间)\n",
    "initial_guess = [\n",
    "    0.5, F_observed[0] * 0.5,  # a, b (假设f1占初始流量30%)\n",
    "    1, F_observed[0] * 0.5,  # c, d (假设f2占初始流量70%)\n",
    "    -1,                      # e\n",
    "    len(t_data) / 2          # tp_float (假设峰值在中间)\n",
    "]\n",
    "\n",
    "# 参数边界 (bounds)\n",
    "# (lower bounds), (upper bounds)\n",
    "bounds = (\n",
    "    [0, 0, 0, 0, -np.inf, 0],  # Lower bounds: a>=0, b>=0, c>=0, d>=0, e任意但倾向<0, tp>=0\n",
    "    [np.inf, np.inf, np.inf, np.inf, 0, len(t_data) - 2] # Upper bounds: a,b,c,d无上限, e<=0, tp<=58\n",
    ")\n",
    "\n",
    "# 执行拟合\n",
    "try:\n",
    "    params, covariance = curve_fit(\n",
    "        total_flow,\n",
    "        t_data,\n",
    "        F_observed,\n",
    "        p0=initial_guess,\n",
    "        bounds=bounds,\n",
    "        maxfev=10000 # 增加最大函数评估次数\n",
    "    )\n",
    "except RuntimeError as e:\n",
    "    print(f\"优化未收敛: {e}\")\n",
    "    print(\"尝试调整初始猜测值或边界。\")\n",
    "    # 可以尝试不加边界，但可能得到物理意义不符的解\n",
    "    # params, covariance = curve_fit(total_flow, t_data, F_observed, p0=initial_guess, maxfev=10000)\n",
    "\n"
   ]
  },
  {
   "cell_type": "code",
   "execution_count": 21,
   "id": "10b4177b",
   "metadata": {},
   "outputs": [],
   "source": [
    "# --- 4. 提取结果和定义函数 ---\n",
    "# 提取优化后的参数\n",
    "a_opt, b_opt, c_opt, d_opt, e_opt, tp_float_opt = params\n",
    "tp_opt = int(round(tp_float_opt))\n",
    "tp_opt = max(0, min(len(t_data) - 2, tp_opt)) # 再次确保范围\n",
    "\n",
    "# 计算 g_opt\n",
    "g_opt = (c_opt - e_opt) * tp_opt + d_opt\n",
    "\n",
    "# 定义最终的支路流量函数\n",
    "def f1(t):\n",
    "    return a_opt * t + b_opt\n",
    "\n",
    "def f2(t):\n",
    "    # 使用 np.where 处理 t 是单个值或数组的情况\n",
    "    return np.where(t <= tp_opt, c_opt * t + d_opt, e_opt * t + g_opt)\n",
    "\n",
    "# 检查流量是否为负\n",
    "f1_vals = f1(t_data)\n",
    "f2_vals = f2(t_data)\n",
    "if np.any(f1_vals < 0) or np.any(f2_vals < 0):\n",
    "    print(\"\\n警告：拟合得到的流量函数在某些时间点产生负值。\")\n",
    "    print(\"这可能意味着模型假设或数据与实际情况存在偏差，或者优化结果不是最优。\")\n",
    "    print(f\"f1 最小值: {np.min(f1_vals):.2f}\")\n",
    "    print(f\"f2 最小值: {np.min(f2_vals):.2f}\")"
   ]
  },
  {
   "cell_type": "code",
   "execution_count": 22,
   "id": "e8b81469",
   "metadata": {},
   "outputs": [
    {
     "name": "stdout",
     "output_type": "stream",
     "text": [
      "\n",
      "--- 优化结果 ---\n",
      "最优参数:\n",
      "  a (f1 斜率): 0.5000\n",
      "  b (f1 截距): 3.5000\n",
      "  c (f2 增长斜率): 1.0000\n",
      "  d (f2 截距): 3.5000\n",
      "  e (f2 下降斜率): -1.0000\n",
      "  tp (f2 峰值时间索引): 30\n",
      "  g (计算得到): 63.5000\n"
     ]
    }
   ],
   "source": [
    "# --- 5. 输出结果 ---\n",
    "\n",
    "print(\"\\n--- 优化结果 ---\")\n",
    "print(f\"最优参数:\")\n",
    "print(f\"  a (f1 斜率): {a_opt:.4f}\")\n",
    "print(f\"  b (f1 截距): {b_opt:.4f}\")\n",
    "print(f\"  c (f2 增长斜率): {c_opt:.4f}\")\n",
    "print(f\"  d (f2 截距): {d_opt:.4f}\")\n",
    "print(f\"  e (f2 下降斜率): {e_opt:.4f}\")\n",
    "print(f\"  tp (f2 峰值时间索引): {tp_opt}\")\n",
    "print(f\"  g (计算得到): {g_opt:.4f}\") # g 是衍生参数"
   ]
  },
  {
   "cell_type": "code",
   "execution_count": null,
   "id": "0ad5268c",
   "metadata": {},
   "outputs": [
    {
     "name": "stdout",
     "output_type": "stream",
     "text": [
      "  支路2 流量峰值大约出现在 t=30 (对应时间 7:00 + 60 分钟 = 08:00)\n",
      "\n",
      "--- 支路流量函数 (t=0 对应 7:00, t=59 对应 8:58) ---\n",
      "支路1: f1(t) = 0.5000 * t + 3.5000\n",
      "支路2: f2(t) = \n",
      "  if 0 <= t <= 30: 1.0000 * t + 3.5000\n",
      "  if 30 < t <= 59: -1.0000 * t + 63.5000\n"
     ]
    },
    {
     "data": {
      "image/png": "[encoded data removed]",
      "text/plain": [
       "<Figure size 1200x700 with 1 Axes>"
      ]
     },
     "metadata": {},
     "output_type": "display_data"
    }
   ],
   "source": [
    "# 换算回实际时间\n",
    "peak_time_minutes = tp_opt * 2 # 每个索引代表2分钟\n",
    "peak_hour = 7 + peak_time_minutes // 60\n",
    "peak_minute = peak_time_minutes % 60\n",
    "print(f\"  支路2 流量峰值大约出现在 t={tp_opt} (对应时间 7:00 + {peak_time_minutes} 分钟 = {peak_hour:02d}:{peak_minute:02d})\")\n",
    "\n",
    "print(\"\\n--- 支路流量函数 (t=0 对应 7:00, t=59 对应 8:58) ---\")\n",
    "print(f\"支路1: f1(t) = {a_opt:.4f} * t + {b_opt:.4f}\")\n",
    "print(f\"支路2: f2(t) = \")\n",
    "print(f\"  if 0 <= t <= {tp_opt}: {c_opt:.4f} * t + {d_opt:.4f}\")\n",
    "print(f\"  if {tp_opt} < t <= 59: {e_opt:.4f} * t + {g_opt:.4f}\")\n",
    "\n",
    "# --- 6. 可视化 (可选) ---\n",
    "plt.figure(figsize=(12, 7))\n",
    "plt.scatter(t_data, F_observed, label='观测总流量 F(t)', marker='o', s=10, alpha=0.7)\n",
    "\n",
    "# 计算拟合的流量\n",
    "F_predicted = total_flow(t_data, *params) # 使用未舍入的tp计算拟合曲线可能更平滑\n",
    "f1_predicted = f1(t_data)\n",
    "f2_predicted = f2(t_data)"
   ]
  }
 ],
 "metadata": {
  "kernelspec": {
   "display_name": "base",
   "language": "python",
   "name": "python3"
  },
  "language_info": {
   "codemirror_mode": {
    "name": "ipython",
    "version": 3
   },
   "file_extension": ".py",
   "mimetype": "text/x-python",
   "name": "python",
   "nbconvert_exporter": "python",
   "pygments_lexer": "ipython3",
   "version": "3.12.9"
  }
 },
 "nbformat": 4,
 "nbformat_minor": 5
}
