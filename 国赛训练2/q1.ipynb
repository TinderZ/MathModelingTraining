{
 "cells": [
  {
   "cell_type": "markdown",
   "metadata": {},
   "source": [
    "## Runge-Kutta和Adams方法求解"
   ]
  },
  {
   "cell_type": "markdown",
   "metadata": {},
   "source": [
    "### q2"
   ]
  },
  {
   "cell_type": "code",
   "execution_count": 1,
   "metadata": {},
   "outputs": [],
   "source": [
    "import numpy as np\n",
    "import matplotlib.pyplot as plt"
   ]
  },
  {
   "cell_type": "code",
   "execution_count": 2,
   "metadata": {},
   "outputs": [],
   "source": [
    "# 定义参数\n",
    "r = 3\n",
    "a = 0.002\n",
    "b = 0.0006\n",
    "d = 0.5"
   ]
  },
  {
   "cell_type": "code",
   "execution_count": 3,
   "metadata": {},
   "outputs": [],
   "source": [
    "# 定义ODE系统\n",
    "def f(t, u):\n",
    "    x, y = u\n",
    "    dxdt = r * x - a * x * y\n",
    "    dydt = -d * y + b * x * y\n",
    "    return np.array([dxdt, dydt])"
   ]
  },
  {
   "cell_type": "code",
   "execution_count": 4,
   "metadata": {},
   "outputs": [],
   "source": [
    "# 四阶Runge-Kutta方法\n",
    "def rk4(f, t0, u0, t_end, h):\n",
    "    \"\"\" \n",
    "    Arguments:\n",
    "        f -- ode system\n",
    "        t0 -- initial time\n",
    "        u0 -- x0, y0\n",
    "        t_end -- end time\n",
    "        h -- step size\n",
    "\n",
    "    Returns:\n",
    "        list of t values and list of u values\n",
    "    \"\"\"    \n",
    "    t_values = np.arange(t0, t_end + h, h)\n",
    "    n = len(t_values)\n",
    "    u_values = np.zeros((n, len(u0)))\n",
    "    u_values[0] = u0\n",
    "    \n",
    "    for i in range(1, n):\n",
    "        t = t_values[i-1]\n",
    "        u = u_values[i-1]\n",
    "        k1 = f(t, u)\n",
    "        k2 = f(t + h/2, u + h/2 * k1)\n",
    "        k3 = f(t + h/2, u + h/2 * k2)\n",
    "        k4 = f(t + h, u + h * k3)\n",
    "        u_values[i] = u + h/6 * (k1 + 2*k2 + 2*k3 + k4)\n",
    "    \n",
    "    return t_values, u_values"
   ]
  },
  {
   "cell_type": "code",
   "execution_count": 5,
   "metadata": {},
   "outputs": [],
   "source": [
    "# 四阶Adams预测校正方法\n",
    "def adams_pc(f, t0, u0, t_end, h):\n",
    "    t_values = np.arange(t0, t_end + h, h)\n",
    "    n = len(t_values)\n",
    "    u_values = np.zeros((n, len(u0)))\n",
    "    u_values[0] = u0\n",
    "    \n",
    "    # 用RK4计算前4个点\n",
    "    for i in range(1, min(4, n)):\n",
    "        t = t_values[i-1]\n",
    "        u = u_values[i-1]\n",
    "        k1 = f(t, u)\n",
    "        k2 = f(t + h/2, u + h/2 * k1)\n",
    "        k3 = f(t + h/2, u + h/2 * k2)\n",
    "        k4 = f(t + h, u + h * k3)\n",
    "        u_values[i] = u + h/6 * (k1 + 2*k2 + 2*k3 + k4)\n",
    "    \n",
    "    # Adams预测校正\n",
    "    for i in range(4, n):\n",
    "        t = t_values[i-1]\n",
    "        # 预测\n",
    "        f_n = f(t_values[i-1], u_values[i-1])\n",
    "        f_n1 = f(t_values[i-2], u_values[i-2])\n",
    "        f_n2 = f(t_values[i-3], u_values[i-3])\n",
    "        f_n3 = f(t_values[i-4], u_values[i-4])\n",
    "        u_pred = u_values[i-1] + h/24 * (55 * f_n - 59 * f_n1 + 37 * f_n2 - 9 * f_n3)\n",
    "        \n",
    "        # 校正\n",
    "        f_pred = f(t_values[i], u_pred)\n",
    "        u_values[i] = u_values[i-1] + h/24 * (9 * f_pred + 19 * f_n - 5 * f_n1 + f_n2)\n",
    "    \n",
    "    return t_values, u_values"
   ]
  },
  {
   "cell_type": "code",
   "execution_count": 6,
   "metadata": {},
   "outputs": [],
   "source": [
    "# 初始条件\n",
    "t0 = 0\n",
    "u0 = np.array([1000, 500])\n",
    "t_end = 10\n",
    "h = 0.01  # 步长\n",
    "\n",
    "# # 使用RK4求解\n",
    "# t_rk4, u_rk4 = rk4(f, t0, u0, t_end, h)\n",
    "\n",
    "# # 打印部分结果验证 f\n",
    "# print(\"RK4方法前5个时间点的解：\")\n",
    "# for i in range(min(5, len(t_rk4))):\n",
    "#     print(f\"t = {t_rk4[i]:.2f}, x = {u_rk4[i, 0]:.2f}, y = {u_rk4[i, 1]:.2f}\")"
   ]
  },
  {
   "cell_type": "code",
   "execution_count": null,
   "metadata": {},
   "outputs": [],
   "source": [
    "# 使用Adams预测校正求解\n",
    "t_adams, u_adams = adams_pc(f, t0, u0, t_end, h)\n",
    "\n",
    "# print(\"\\nAdams方法前5个时间点的解：\")\n",
    "# for i in range(min(5, len(t_adams))):\n",
    "#     print(f\"t = {t_adams[i]:.2f}, x = {u_adams[i, 0]:.2f}, y = {u_adams[i, 1]:.2f}\")"
   ]
  },
  {
   "cell_type": "code",
   "execution_count": 12,
   "metadata": {},
   "outputs": [
    {
     "name": "stdout",
     "output_type": "stream",
     "text": [
      "\n",
      "Adams方法10个时间点的解：\n",
      "t = 0.00, x = 1000.00, y = 500.00\n",
      "t = 1.00, x = 4392.88, y = 1512.23\n",
      "t = 2.00, x = 288.00, y = 3175.16\n",
      "t = 3.00, x = 32.21, y = 2042.43\n",
      "t = 4.00, x = 25.39, y = 1257.67\n",
      "t = 5.00, x = 69.19, y = 781.57\n",
      "t = 6.00, x = 388.88, y = 527.49\n",
      "t = 7.00, x = 2701.28, y = 664.35\n",
      "t = 8.00, x = 1602.59, y = 3240.39\n",
      "t = 9.00, x = 68.37, y = 2556.42\n",
      "t = 10.00, x = 23.41, y = 1584.25\n",
      "结果已保存到 adams_results.csv 文件中。\n"
     ]
    }
   ],
   "source": [
    "print(\"\\nAdams方法10个时间点的解：\")\n",
    "for i in range(0,1100,100):\n",
    "    print(f\"t = {t_adams[i]:.2f}, x = {u_adams[i, 0]:.2f}, y = {u_adams[i, 1]:.2f}\")\n",
    "\n",
    "import pandas as pd\n",
    "\n",
    "# 保存结果到表格\n",
    "results = []\n",
    "for i in range(0, 1100, 100):\n",
    "    results.append({\n",
    "        \"t\": t_adams[i],\n",
    "        \"x\": u_adams[i, 0],\n",
    "        \"y\": u_adams[i, 1]\n",
    "    })\n",
    "\n",
    "# 转换为 DataFrame\n",
    "df = pd.DataFrame(results)\n",
    "\n",
    "# 保存为 CSV 文件\n",
    "df.to_csv(\"adams_results.csv\", index=False, encoding=\"utf-8-sig\")\n",
    "\n",
    "print(\"结果已保存到 adams_results.csv 文件中。\")\n",
    "# for i in range(min(5, len(t_adams))):\n",
    "#     print(f\"t = {t_adams[i]:.2f}, x = {u_adams[i, 0]:.2f}, y = {u_adams[i, 1]:.2f}\")"
   ]
  },
  {
   "cell_type": "markdown",
   "metadata": {},
   "source": [
    "### q3 绘图"
   ]
  },
  {
   "cell_type": "code",
   "execution_count": null,
   "metadata": {},
   "outputs": [],
   "source": [
    "# 绘制图形\n",
    "plt.figure(figsize=(10, 6))\n",
    "plt.plot(t_adams, u_adams[:, 0], label='x(t) (Prey)')\n",
    "plt.plot(t_adams, u_adams[:, 1], label='y(t) (Predator)')\n",
    "plt.xlabel('Time t')\n",
    "plt.ylabel('Population')\n",
    "plt.title('Predator-Prey Model (adams)')\n",
    "plt.legend()\n",
    "plt.grid(True)\n",
    "plt.show()"
   ]
  },
  {
   "cell_type": "markdown",
   "metadata": {},
   "source": [
    "##### 相轨线的图"
   ]
  },
  {
   "cell_type": "code",
   "execution_count": 15,
   "metadata": {},
   "outputs": [
    {
     "data": {
      "image/png": "[encoded data removed]",
      "text/plain": [
       "<Figure size 1000x600 with 1 Axes>"
      ]
     },
     "metadata": {},
     "output_type": "display_data"
    }
   ],
   "source": [
    "import matplotlib.pyplot as plt\n",
    "from matplotlib import rcParams\n",
    "\n",
    "# 设置字体为支持中文的字体，例如 SimHei（黑体）\n",
    "rcParams['font.sans-serif'] = ['SimHei']  # 用黑体显示中文\n",
    "rcParams['axes.unicode_minus'] = False  # 解决负号显示问题\n",
    "\n",
    "# 绘制图形\n",
    "plt.figure(figsize=(10, 6))\n",
    "plt.plot(u_adams[:, 0], u_adams[:, 1])\n",
    "\n",
    "plt.xlabel('x')\n",
    "plt.ylabel('y')\n",
    "# plt.title('相轨线')  # 中文标题\n",
    "# plt.legend(['轨迹'])  # 添加图例\n",
    "plt.grid(True)\n",
    "plt.show()"
   ]
  },
  {
   "cell_type": "markdown",
   "metadata": {},
   "source": [
    "### q4"
   ]
  },
  {
   "cell_type": "code",
   "execution_count": null,
   "metadata": {},
   "outputs": [
    {
     "name": "stdout",
     "output_type": "stream",
     "text": [
      "估计的周期: 6.47\n"
     ]
    }
   ],
   "source": [
    "from scipy.signal import find_peaks\n",
    "\n",
    "# 找到x(t)的峰值\n",
    "peaks, _ = find_peaks(u_adams[:, 0], distance=50)  # distance避免检测到噪声峰\n",
    "\n",
    "# 计算周期\n",
    "if len(peaks) >= 2:\n",
    "    period = t_adams[peaks[1]] - t_adams[peaks[0]]\n",
    "    print(f\"估计的周期: {period:.2f}\")\n",
    "else:\n",
    "    print(\"峰值不足，无法估计周期\")"
   ]
  },
  {
   "cell_type": "markdown",
   "metadata": {},
   "source": [
    "### q5"
   ]
  },
  {
   "cell_type": "code",
   "execution_count": null,
   "metadata": {},
   "outputs": [
    {
     "name": "stdout",
     "output_type": "stream",
     "text": [
      "一个周期内x的平均值: 823.65\n",
      "一个周期内y的平均值: 1497.71\n"
     ]
    }
   ],
   "source": [
    "start_idx = peaks[0]\n",
    "end_idx = peaks[1]\n",
    "\n",
    "t_cycle = t_adams[start_idx:end_idx]\n",
    "x_cycle = u_adams[start_idx:end_idx, 0]\n",
    "y_cycle = u_adams[start_idx:end_idx, 1]\n",
    "\n",
    "# 使用梯形法则计算积分\n",
    "x_integral = np.trapz(x_cycle, t_cycle)\n",
    "y_integral = np.trapz(y_cycle, t_cycle)\n",
    "\n",
    "# 计算平均值\n",
    "x_avg = x_integral / period\n",
    "y_avg = y_integral / period\n",
    "\n",
    "print(f\"一个周期内x的平均值: {x_avg:.2f}\")\n",
    "print(f\"一个周期内y的平均值: {y_avg:.2f}\")"
   ]
  },
  {
   "cell_type": "code",
   "execution_count": 22,
   "metadata": {},
   "outputs": [],
   "source": [
    "import numpy as np\n",
    "from scipy.optimize import minimize\n",
    "\n",
    "# Observational data\n",
    "t_obs = np.array([0, 1, 2, 3, 4, 5, 6])\n",
    "x_obs = np.array([1000, 2996, 217, 29, 22, 49, 214])\n",
    "y_obs = np.array([500, 1737, 3069, 2017, 1266, 800, 537])"
   ]
  },
  {
   "cell_type": "code",
   "execution_count": null,
   "metadata": {},
   "outputs": [],
   "source": [
    "# ODE system\n",
    "def predator_prey(t, u, r, a, b, d):\n",
    "    x, y = u\n",
    "    dxdt = r * x - a * x * y\n",
    "    dydt = -d * y + b * x * y\n",
    "    return np.array([dxdt, dydt])\n",
    "\n",
    "# Adams predictor-corrector method\n",
    "def adams_pc(f, t0, u0, t_end, h, params):\n",
    "    r, a, b, d = params\n",
    "    t_values = np.arange(t0, t_end + h, h)\n",
    "    n = len(t_values)\n",
    "    u_values = np.zeros((n, len(u0)))\n",
    "    u_values[0] = u0\n",
    "    \n",
    "    for i in range(1, min(4, n)):\n",
    "        t = t_values[i-1]\n",
    "        u = u_values[i-1]\n",
    "        k1 = f(t, u, r, a, b, d)\n",
    "        k2 = f(t + h/2, u + h/2 * k1, r, a, b, d)\n",
    "        k3 = f(t + h/2, u + h/2 * k2, r, a, b, d)\n",
    "        k4 = f(t + h, u + h * k3, r, a, b, d)\n",
    "        u_values[i] = u + h/6 * (k1 + 2*k2 + 2*k3 + k4)\n",
    "    \n",
    "    for i in range(4, n):\n",
    "        t = t_values[i-1]\n",
    "        f_n = f(t_values[i-1], u_values[i-1], r, a, b, d)\n",
    "        f_n1 = f(t_values[i-2], u_values[i-2], r, a, b, d)\n",
    "        f_n2 = f(t_values[i-3], u_values[i-3], r, a, b, d)\n",
    "        f_n3 = f(t_values[i-4], u_values[i-4], r, a, b, d)\n",
    "        u_pred = u_values[i-1] + h/24 * (55 * f_n - 59 * f_n1 + 37 * f_n2 - 9 * f_n3)\n",
    "        f_pred = f(t_values[i], u_pred, r, a, b, d)\n",
    "        u_values[i] = u_values[i-1] + h/24 * (9 * f_pred + 19 * f_n - 5 * f_n1 + f_n2)\n",
    "    \n",
    "    return t_values, u_values"
   ]
  },
  {
   "cell_type": "code",
   "execution_count": 35,
   "metadata": {},
   "outputs": [],
   "source": [
    "# Solve ODE at observation points\n",
    "def solve_ode_at_obs(params):\n",
    "    t0 = 0\n",
    "    u0 = np.array([1000, 500])\n",
    "    t_end = 6\n",
    "    h = 0.01\n",
    "    t_values, u_values = adams_pc(predator_prey, t0, u0, t_end, h, params)\n",
    "    indices = (t_obs / h).astype(int)\n",
    "    return u_values[indices, 0], u_values[indices, 1]\n",
    "\n",
    "# Error function\n",
    "def error_function(params):\n",
    "    x_pred, y_pred = solve_ode_at_obs(params)\n",
    "    error = np.sum((x_pred - x_obs)**2 + (y_pred - y_obs)**2)\n",
    "    return error"
   ]
  },
  {
   "cell_type": "code",
   "execution_count": 36,
   "metadata": {},
   "outputs": [
    {
     "ename": "TypeError",
     "evalue": "adams_pc() takes 5 positional arguments but 6 were given",
     "output_type": "error",
     "traceback": [
      "\u001b[1;31m---------------------------------------------------------------------------\u001b[0m",
      "\u001b[1;31mTypeError\u001b[0m                                 Traceback (most recent call last)",
      "Cell \u001b[1;32mIn[36], line 3\u001b[0m\n\u001b[0;32m      1\u001b[0m \u001b[38;5;66;03m# Initial guess and optimization\u001b[39;00m\n\u001b[0;32m      2\u001b[0m initial_guess \u001b[38;5;241m=\u001b[39m [\u001b[38;5;241m3\u001b[39m, \u001b[38;5;241m0.002\u001b[39m, \u001b[38;5;241m0.0006\u001b[39m, \u001b[38;5;241m0.5\u001b[39m]\n\u001b[1;32m----> 3\u001b[0m result \u001b[38;5;241m=\u001b[39m minimize(error_function, initial_guess, method\u001b[38;5;241m=\u001b[39m\u001b[38;5;124m'\u001b[39m\u001b[38;5;124mNelder-Mead\u001b[39m\u001b[38;5;124m'\u001b[39m)\n\u001b[0;32m      5\u001b[0m \u001b[38;5;66;03m# Results\u001b[39;00m\n\u001b[0;32m      6\u001b[0m best_params \u001b[38;5;241m=\u001b[39m result\u001b[38;5;241m.\u001b[39mx\n",
      "File \u001b[1;32md:\\Anaconda\\Lib\\site-packages\\scipy\\optimize\\_minimize.py:701\u001b[0m, in \u001b[0;36mminimize\u001b[1;34m(fun, x0, args, method, jac, hess, hessp, bounds, constraints, tol, callback, options)\u001b[0m\n\u001b[0;32m    698\u001b[0m callback \u001b[38;5;241m=\u001b[39m _wrap_callback(callback, meth)\n\u001b[0;32m    700\u001b[0m \u001b[38;5;28;01mif\u001b[39;00m meth \u001b[38;5;241m==\u001b[39m \u001b[38;5;124m'\u001b[39m\u001b[38;5;124mnelder-mead\u001b[39m\u001b[38;5;124m'\u001b[39m:\n\u001b[1;32m--> 701\u001b[0m     res \u001b[38;5;241m=\u001b[39m _minimize_neldermead(fun, x0, args, callback, bounds\u001b[38;5;241m=\u001b[39mbounds,\n\u001b[0;32m    702\u001b[0m                                \u001b[38;5;241m*\u001b[39m\u001b[38;5;241m*\u001b[39moptions)\n\u001b[0;32m    703\u001b[0m \u001b[38;5;28;01melif\u001b[39;00m meth \u001b[38;5;241m==\u001b[39m \u001b[38;5;124m'\u001b[39m\u001b[38;5;124mpowell\u001b[39m\u001b[38;5;124m'\u001b[39m:\n\u001b[0;32m    704\u001b[0m     res \u001b[38;5;241m=\u001b[39m _minimize_powell(fun, x0, args, callback, bounds, \u001b[38;5;241m*\u001b[39m\u001b[38;5;241m*\u001b[39moptions)\n",
      "File \u001b[1;32md:\\Anaconda\\Lib\\site-packages\\scipy\\optimize\\_optimize.py:818\u001b[0m, in \u001b[0;36m_minimize_neldermead\u001b[1;34m(func, x0, args, callback, maxiter, maxfev, disp, return_all, initial_simplex, xatol, fatol, adaptive, bounds, **unknown_options)\u001b[0m\n\u001b[0;32m    816\u001b[0m \u001b[38;5;28;01mtry\u001b[39;00m:\n\u001b[0;32m    817\u001b[0m     \u001b[38;5;28;01mfor\u001b[39;00m k \u001b[38;5;129;01min\u001b[39;00m \u001b[38;5;28mrange\u001b[39m(N \u001b[38;5;241m+\u001b[39m \u001b[38;5;241m1\u001b[39m):\n\u001b[1;32m--> 818\u001b[0m         fsim[k] \u001b[38;5;241m=\u001b[39m func(sim[k])\n\u001b[0;32m    819\u001b[0m \u001b[38;5;28;01mexcept\u001b[39;00m _MaxFuncCallError:\n\u001b[0;32m    820\u001b[0m     \u001b[38;5;28;01mpass\u001b[39;00m\n",
      "File \u001b[1;32md:\\Anaconda\\Lib\\site-packages\\scipy\\optimize\\_optimize.py:526\u001b[0m, in \u001b[0;36m_wrap_scalar_function_maxfun_validation.<locals>.function_wrapper\u001b[1;34m(x, *wrapper_args)\u001b[0m\n\u001b[0;32m    524\u001b[0m ncalls[\u001b[38;5;241m0\u001b[39m] \u001b[38;5;241m+\u001b[39m\u001b[38;5;241m=\u001b[39m \u001b[38;5;241m1\u001b[39m\n\u001b[0;32m    525\u001b[0m \u001b[38;5;66;03m# A copy of x is sent to the user function (gh13740)\u001b[39;00m\n\u001b[1;32m--> 526\u001b[0m fx \u001b[38;5;241m=\u001b[39m function(np\u001b[38;5;241m.\u001b[39mcopy(x), \u001b[38;5;241m*\u001b[39m(wrapper_args \u001b[38;5;241m+\u001b[39m args))\n\u001b[0;32m    527\u001b[0m \u001b[38;5;66;03m# Ideally, we'd like to a have a true scalar returned from f(x). For\u001b[39;00m\n\u001b[0;32m    528\u001b[0m \u001b[38;5;66;03m# backwards-compatibility, also allow np.array([1.3]),\u001b[39;00m\n\u001b[0;32m    529\u001b[0m \u001b[38;5;66;03m# np.array([[1.3]]) etc.\u001b[39;00m\n\u001b[0;32m    530\u001b[0m \u001b[38;5;28;01mif\u001b[39;00m \u001b[38;5;129;01mnot\u001b[39;00m np\u001b[38;5;241m.\u001b[39misscalar(fx):\n",
      "Cell \u001b[1;32mIn[35], line 13\u001b[0m, in \u001b[0;36merror_function\u001b[1;34m(params)\u001b[0m\n\u001b[0;32m     12\u001b[0m \u001b[38;5;28;01mdef\u001b[39;00m \u001b[38;5;21merror_function\u001b[39m(params):\n\u001b[1;32m---> 13\u001b[0m     x_pred, y_pred \u001b[38;5;241m=\u001b[39m solve_ode_at_obs(params)\n\u001b[0;32m     14\u001b[0m     error \u001b[38;5;241m=\u001b[39m np\u001b[38;5;241m.\u001b[39msum((x_pred \u001b[38;5;241m-\u001b[39m x_obs)\u001b[38;5;241m*\u001b[39m\u001b[38;5;241m*\u001b[39m\u001b[38;5;241m2\u001b[39m \u001b[38;5;241m+\u001b[39m (y_pred \u001b[38;5;241m-\u001b[39m y_obs)\u001b[38;5;241m*\u001b[39m\u001b[38;5;241m*\u001b[39m\u001b[38;5;241m2\u001b[39m)\n\u001b[0;32m     15\u001b[0m     \u001b[38;5;28;01mreturn\u001b[39;00m error\n",
      "Cell \u001b[1;32mIn[35], line 7\u001b[0m, in \u001b[0;36msolve_ode_at_obs\u001b[1;34m(params)\u001b[0m\n\u001b[0;32m      5\u001b[0m t_end \u001b[38;5;241m=\u001b[39m \u001b[38;5;241m6\u001b[39m\n\u001b[0;32m      6\u001b[0m h \u001b[38;5;241m=\u001b[39m \u001b[38;5;241m0.01\u001b[39m\n\u001b[1;32m----> 7\u001b[0m t_values, u_values \u001b[38;5;241m=\u001b[39m adams_pc(predator_prey, t0, u0, t_end, h, params)\n\u001b[0;32m      8\u001b[0m indices \u001b[38;5;241m=\u001b[39m (t_obs \u001b[38;5;241m/\u001b[39m h)\u001b[38;5;241m.\u001b[39mastype(\u001b[38;5;28mint\u001b[39m)\n\u001b[0;32m      9\u001b[0m \u001b[38;5;28;01mreturn\u001b[39;00m u_values[indices, \u001b[38;5;241m0\u001b[39m], u_values[indices, \u001b[38;5;241m1\u001b[39m]\n",
      "\u001b[1;31mTypeError\u001b[0m: adams_pc() takes 5 positional arguments but 6 were given"
     ]
    }
   ],
   "source": [
    "# Initial guess and optimization\n",
    "initial_guess = [3, 0.002, 0.0006, 0.5]\n",
    "result = minimize(error_function, initial_guess, method='Nelder-Mead')\n",
    "\n",
    "# Results\n",
    "best_params = result.x\n",
    "print(\"最佳参数 r, a, b, d:\", best_params)\n",
    "print(\"最佳参数 r, a, b, d: [{:.2f}, {:.2f}, {:.2f}, {:.2f}]\".format(*best_params))\n",
    "print(\"最小误差:\", result.fun)"
   ]
  }
 ],
 "metadata": {
  "kernelspec": {
   "display_name": "base",
   "language": "python",
   "name": "python3"
  },
  "language_info": {
   "codemirror_mode": {
    "name": "ipython",
    "version": 3
   },
   "file_extension": ".py",
   "mimetype": "text/x-python",
   "name": "python",
   "nbconvert_exporter": "python",
   "pygments_lexer": "ipython3",
   "version": "3.12.7"
  }
 },
 "nbformat": 4,
 "nbformat_minor": 2
}
