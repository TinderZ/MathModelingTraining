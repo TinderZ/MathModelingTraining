{
 "cells": [
  {
   "cell_type": "markdown",
   "metadata": {},
   "source": [
    "## 最小二乘法 求解r a b d参数"
   ]
  },
  {
   "cell_type": "code",
   "execution_count": 3,
   "metadata": {},
   "outputs": [],
   "source": [
    "import numpy as np\n",
    "from scipy.optimize import minimize\n",
    "\n",
    "# Observational data\n",
    "t_obs = np.array([0, 1, 2, 3, 4, 5, 6])\n",
    "x_obs = np.array([1000, 2996, 217, 29, 22, 49, 214])\n",
    "y_obs = np.array([500, 1737, 3069, 2017, 1266, 800, 537])"
   ]
  },
  {
   "cell_type": "code",
   "execution_count": 1,
   "metadata": {},
   "outputs": [],
   "source": [
    "# ODE system\n",
    "def predator_prey(t, u, r, a, b, d):\n",
    "    x, y = u\n",
    "    dxdt = r * x - a * x * y\n",
    "    dydt = -d * y + b * x * y\n",
    "    return np.array([dxdt, dydt])\n",
    "\n",
    "# Adams predictor-corrector method\n",
    "def adams_pc(f, t0, u0, t_end, h, params):\n",
    "    r, a, b, d = params\n",
    "    t_values = np.arange(t0, t_end + h, h)\n",
    "    n = len(t_values)\n",
    "    u_values = np.zeros((n, len(u0)))\n",
    "    u_values[0] = u0\n",
    "    \n",
    "    for i in range(1, min(4, n)):\n",
    "        t = t_values[i-1]\n",
    "        u = u_values[i-1]\n",
    "        k1 = f(t, u, r, a, b, d)\n",
    "        k2 = f(t + h/2, u + h/2 * k1, r, a, b, d)\n",
    "        k3 = f(t + h/2, u + h/2 * k2, r, a, b, d)\n",
    "        k4 = f(t + h, u + h * k3, r, a, b, d)\n",
    "        u_values[i] = u + h/6 * (k1 + 2*k2 + 2*k3 + k4)\n",
    "    \n",
    "    for i in range(4, n):\n",
    "        t = t_values[i-1]\n",
    "        f_n = f(t_values[i-1], u_values[i-1], r, a, b, d)\n",
    "        f_n1 = f(t_values[i-2], u_values[i-2], r, a, b, d)\n",
    "        f_n2 = f(t_values[i-3], u_values[i-3], r, a, b, d)\n",
    "        f_n3 = f(t_values[i-4], u_values[i-4], r, a, b, d)\n",
    "        u_pred = u_values[i-1] + h/24 * (55 * f_n - 59 * f_n1 + 37 * f_n2 - 9 * f_n3)\n",
    "        f_pred = f(t_values[i], u_pred, r, a, b, d)\n",
    "        u_values[i] = u_values[i-1] + h/24 * (9 * f_pred + 19 * f_n - 5 * f_n1 + f_n2)\n",
    "    \n",
    "    return t_values, u_values"
   ]
  },
  {
   "cell_type": "code",
   "execution_count": 2,
   "metadata": {},
   "outputs": [],
   "source": [
    "# Solve ODE at observation points\n",
    "def solve_ode_at_obs(params):\n",
    "    t0 = 0\n",
    "    u0 = np.array([1000, 500])\n",
    "    t_end = 6\n",
    "    h = 0.01\n",
    "    t_values, u_values = adams_pc(predator_prey, t0, u0, t_end, h, params)\n",
    "    indices = (t_obs / h).astype(int)\n",
    "    return u_values[indices, 0], u_values[indices, 1]\n",
    "\n",
    "# Error function\n",
    "def error_function(params):\n",
    "    x_pred, y_pred = solve_ode_at_obs(params)\n",
    "    error = np.sum((x_pred - x_obs)**2 + (y_pred - y_obs)**2)\n",
    "    return error"
   ]
  },
  {
   "cell_type": "code",
   "execution_count": 5,
   "metadata": {},
   "outputs": [
    {
     "name": "stdout",
     "output_type": "stream",
     "text": [
      "最佳参数 r, a, b, d: [2.67765834e+00 1.84535534e-03 7.92913181e-04 4.83842516e-01]\n",
      "最佳参数 r, a, b, d: [2.68, 0.0018, 0.00079, 0.48]\n",
      "最小误差: 0.5067370795180575\n"
     ]
    }
   ],
   "source": [
    "# Initial guess and optimization\n",
    "initial_guess = [3, 0.002, 0.0006, 0.5]\n",
    "result = minimize(error_function, initial_guess, method='Nelder-Mead')\n",
    "\n",
    "# Results\n",
    "best_params = result.x\n",
    "print(\"最佳参数 r, a, b, d:\", best_params)\n",
    "print(\"最佳参数 r, a, b, d: [{:.2f}, {:.4f}, {:.5f}, {:.2f}]\".format(*best_params))\n",
    "print(\"最小误差:\", result.fun)"
   ]
  }
 ],
 "metadata": {
  "kernelspec": {
   "display_name": "base",
   "language": "python",
   "name": "python3"
  },
  "language_info": {
   "codemirror_mode": {
    "name": "ipython",
    "version": 3
   },
   "file_extension": ".py",
   "mimetype": "text/x-python",
   "name": "python",
   "nbconvert_exporter": "python",
   "pygments_lexer": "ipython3",
   "version": "3.12.7"
  }
 },
 "nbformat": 4,
 "nbformat_minor": 2
}
